{
  "nbformat": 4,
  "nbformat_minor": 0,
  "metadata": {
    "colab": {
      "name": "Assign1b.ipynb",
      "provenance": [],
      "collapsed_sections": [],
      "authorship_tag": "ABX9TyMgiVdPkpJ4ua29p/4hNsD1",
      "include_colab_link": true
    },
    "kernelspec": {
      "name": "python3",
      "display_name": "Python 3"
    },
    "language_info": {
      "name": "python"
    }
  },
  "cells": [
    {
      "cell_type": "markdown",
      "metadata": {
        "id": "view-in-github",
        "colab_type": "text"
      },
      "source": [
        "<a href=\"https://colab.research.google.com/github/Anoop045/Assignment1/blob/main/Assign1b.ipynb\" target=\"_parent\"><img src=\"https://colab.research.google.com/assets/colab-badge.svg\" alt=\"Open In Colab\"/></a>"
      ]
    },
    {
      "cell_type": "code",
      "execution_count": null,
      "metadata": {
        "id": "RWqYwon2Wxhl"
      },
      "outputs": [],
      "source": [
        "def compute_dist(l1):\n",
        "  dic={}\n",
        "  for i in l1:\n",
        "    if i in dic:\n",
        "      dic[i]=dic[i]+1\n",
        "    else:\n",
        "      dic[i]=1\n",
        "  return dic"
      ]
    },
    {
      "cell_type": "code",
      "source": [
        "l2=[1,2,4,5,3,2,5,3,4,1,5,2]\n",
        "compute_dist(l2)"
      ],
      "metadata": {
        "colab": {
          "base_uri": "https://localhost:8080/"
        },
        "id": "OC2XfQMTcr7e",
        "outputId": "3b6bf54f-00f7-4e85-fb88-0ba3a2ae4523"
      },
      "execution_count": null,
      "outputs": [
        {
          "output_type": "execute_result",
          "data": {
            "text/plain": [
              "{1: 2, 2: 3, 4: 2, 5: 3, 3: 2}"
            ]
          },
          "metadata": {},
          "execution_count": 18
        }
      ]
    },
    {
      "cell_type": "code",
      "source": [
        "l=[88,9,5,62,315,2,2,33,4,5,1,5,4,5,4]\n",
        "compute_dist(l)"
      ],
      "metadata": {
        "colab": {
          "base_uri": "https://localhost:8080/"
        },
        "id": "wxg8g_nZc-Dy",
        "outputId": "01d6b872-1507-4dfd-f8b1-2f3dc7ebab92"
      },
      "execution_count": null,
      "outputs": [
        {
          "output_type": "execute_result",
          "data": {
            "text/plain": [
              "{88: 1, 9: 1, 5: 4, 62: 1, 315: 1, 2: 2, 33: 1, 4: 3, 1: 1}"
            ]
          },
          "metadata": {},
          "execution_count": 19
        }
      ]
    }
  ]
}